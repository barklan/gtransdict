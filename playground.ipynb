{
 "cells": [
  {
   "cell_type": "code",
   "execution_count": 1,
   "metadata": {},
   "outputs": [
    {
     "data": {
      "text/plain": [
       "[{'etymology': '',\n",
       "  'definitions': [{'partOfSpeech': 'article',\n",
       "    'text': ['die (definite)',\n",
       "     'nominative/accusative singular feminine of der',\n",
       "     'nominative/accusative plural of der'],\n",
       "    'relatedWords': [],\n",
       "    'examples': ['die Frau ― the woman', 'die Männer ― the men']},\n",
       "   {'partOfSpeech': 'pronoun',\n",
       "    'text': ['die (relative or demonstrative)', 'inflection of der:'],\n",
       "    'relatedWords': [],\n",
       "    'examples': ['Ich kenne eine Frau, die das kann. ― I know a woman who can do that.',\n",
       "     'die da ― that one/she/they there']}],\n",
       "  'pronunciations': {'text': ['IPA: /diː/ (stressed)',\n",
       "    'IPA: /dɪ/ (unstressed)',\n",
       "    'Rhymes: -iː'],\n",
       "   'audio': []}}]"
      ]
     },
     "execution_count": 1,
     "metadata": {},
     "output_type": "execute_result"
    }
   ],
   "source": [
    "from wiktionaryparser import WiktionaryParser\n",
    "\n",
    "parser = WiktionaryParser()\n",
    "\n",
    "word = \"die\"\n",
    "fetched = parser.fetch(word, \"german\")\n",
    "fetched"
   ]
  },
  {
   "cell_type": "code",
   "execution_count": 19,
   "metadata": {},
   "outputs": [
    {
     "data": {
      "text/plain": [
       "{'partOfSpeech': 'numeral',\n",
       " 'text': ['sechs',\n",
       "  '(cardinal number) six (numerical value represented by the Arabic numeral 6; or describing a set with six elements)'],\n",
       " 'relatedWords': [{'relationshipType': 'coordinate terms',\n",
       "   'words': ['100: hundert, einhundert',\n",
       "    '103: tausend, eintausend',\n",
       "    '104: zehntausend (Myriade)',\n",
       "    '106: Million (tausendmaltausend, tausendtausend)',\n",
       "    '109: Milliarde',\n",
       "    '1012: Billion',\n",
       "    '1015: Billiarde',\n",
       "    '1018: Trillion',\n",
       "    '1021: Trilliarde',\n",
       "    '1024: Quadrillion',\n",
       "    '1027: Quadrilliarde',\n",
       "    '1030: Quintillion',\n",
       "    '1033: Quintilliarde',\n",
       "    '1036: Sextillion',\n",
       "    '1039: Sextilliarde',\n",
       "    '1042: Septillion',\n",
       "    '1045: Septilliarde',\n",
       "    '1048: Oktillion',\n",
       "    '1051: Oktilliarde',\n",
       "    '1054: Nonillion',\n",
       "    '1057: Nonilliarde',\n",
       "    '1060: Dezillion',\n",
       "    '1063: Dezilliarde',\n",
       "    '1066: Undezillion',\n",
       "    '1069: Undezilliarde',\n",
       "    '1072: Duodezillion',\n",
       "    '1075: Duodezilliarde',\n",
       "    '1078: Tredezillion',\n",
       "    '1081: Tredezilliarde',\n",
       "    '1084: Quattuordezillion',\n",
       "    '1087: Quattuordezilliarde',\n",
       "    '10100: Googol',\n",
       "    '10120: Vigintillion',\n",
       "    '10123: Vigintilliarde']},\n",
       "  {'relationshipType': 'related terms',\n",
       "   'words': ['sechste', 'sechzehn', 'sechzig']}],\n",
       " 'examples': []}"
      ]
     },
     "execution_count": 19,
     "metadata": {},
     "output_type": "execute_result"
    }
   ],
   "source": [
    "working = fetched[0][\"definitions\"][0]\n",
    "working"
   ]
  },
  {
   "cell_type": "code",
   "execution_count": 20,
   "metadata": {},
   "outputs": [
    {
     "data": {
      "text/plain": [
       "'sechs'"
      ]
     },
     "execution_count": 20,
     "metadata": {},
     "output_type": "execute_result"
    }
   ],
   "source": [
    "short = working[\"text\"][0]\n",
    "short"
   ]
  },
  {
   "cell_type": "code",
   "execution_count": 30,
   "metadata": {},
   "outputs": [
    {
     "data": {
      "text/plain": [
       "'(cardinal number) six (numerical value represented by the Arabic numeral 6; or describing a set with six elements)'"
      ]
     },
     "execution_count": 30,
     "metadata": {},
     "output_type": "execute_result"
    }
   ],
   "source": [
    "if len(working[\"text\"]) >= 2:\n",
    "    firstTranslation = working[\"text\"][1]\n",
    "    \n",
    "firstTranslation"
   ]
  },
  {
   "cell_type": "code",
   "execution_count": 32,
   "metadata": {},
   "outputs": [
    {
     "data": {
      "text/plain": [
       "'six'"
      ]
     },
     "execution_count": 32,
     "metadata": {},
     "output_type": "execute_result"
    }
   ],
   "source": [
    "def remove_text_inside_brackets(text, brackets=\"()[]\"):\n",
    "    count = [0] * (len(brackets) // 2) # count open/close brackets\n",
    "    saved_chars = []\n",
    "    for character in text:\n",
    "        for i, b in enumerate(brackets):\n",
    "            if character == b: # found bracket\n",
    "                kind, is_close = divmod(i, 2)\n",
    "                count[kind] += (-1)**is_close # `+1`: open, `-1`: close\n",
    "                if count[kind] < 0: # unbalanced bracket\n",
    "                    count[kind] = 0  # keep it\n",
    "                else:  # found bracket to remove\n",
    "                    break\n",
    "        else: # character is not a [balanced] bracket\n",
    "            if not any(count): # outside brackets\n",
    "                saved_chars.append(character)\n",
    "    return ''.join(saved_chars)\n",
    "\n",
    "remove_text_inside_brackets(firstTranslation).strip()"
   ]
  },
  {
   "cell_type": "markdown",
   "metadata": {},
   "source": [
    "## Handling cases"
   ]
  },
  {
   "cell_type": "code",
   "execution_count": 22,
   "metadata": {},
   "outputs": [],
   "source": [
    "hint = working[\"text\"][1]\n",
    "if short == word and \" of \" in hint:\n",
    "    nextToSearch = hint.split(\" \")[-1]\n",
    "    nextToSearch = nextToSearch.replace(\":\", \"\")\n"
   ]
  },
  {
   "cell_type": "markdown",
   "metadata": {},
   "source": [
    "---\n",
    "\n",
    "## Handling style"
   ]
  },
  {
   "cell_type": "code",
   "execution_count": 23,
   "metadata": {},
   "outputs": [
    {
     "data": {
      "text/plain": [
       "'<b>sechs</b>'"
      ]
     },
     "execution_count": 23,
     "metadata": {},
     "output_type": "execute_result"
    }
   ],
   "source": [
    "def it(string): \n",
    "    return f\"<i>{string}</i>\"\n",
    "\n",
    "def bd(string):\n",
    "    return f\"<b>{string}</b>\"\n",
    "\n",
    "vector = short.split(' ')\n",
    "vector[0] = bd(vector[0])\n",
    "for i in range(1, len(vector)):\n",
    "    el = vector[i]\n",
    "    last = el[-1]\n",
    "    if last == \",\" or last == \")\":\n",
    "        if el[0] == \"(\":\n",
    "            vector[i] = it(\"(\") + bd(el) + it(last)\n",
    "        else:\n",
    "            vector[i] = bd(el) + it(last)\n",
    "    else:\n",
    "        el = it(el)\n",
    "new = \" \".join(vector)\n",
    "new"
   ]
  },
  {
   "cell_type": "markdown",
   "metadata": {},
   "source": [
    "---"
   ]
  },
  {
   "cell_type": "code",
   "execution_count": 24,
   "metadata": {},
   "outputs": [
    {
     "data": {
      "text/plain": [
       "'numeral'"
      ]
     },
     "execution_count": 24,
     "metadata": {},
     "output_type": "execute_result"
    }
   ],
   "source": [
    "partOfSpeech = working[\"partOfSpeech\"]\n",
    "partOfSpeech"
   ]
  },
  {
   "cell_type": "code",
   "execution_count": 25,
   "metadata": {},
   "outputs": [
    {
     "data": {
      "text/plain": [
       "['sechs',\n",
       " '(cardinal number) six (numerical value represented by the Arabic numeral 6; or describing a set with six elements)']"
      ]
     },
     "execution_count": 25,
     "metadata": {},
     "output_type": "execute_result"
    }
   ],
   "source": [
    "text = working[\"text\"]\n",
    "text"
   ]
  },
  {
   "cell_type": "code",
   "execution_count": 26,
   "metadata": {},
   "outputs": [
    {
     "data": {
      "text/plain": [
       "'numeral | sechs'"
      ]
     },
     "execution_count": 26,
     "metadata": {},
     "output_type": "execute_result"
    }
   ],
   "source": [
    "complete = f\"{partOfSpeech} | {text[0]}\"\n",
    "complete"
   ]
  },
  {
   "cell_type": "markdown",
   "metadata": {},
   "source": [
    "## GI"
   ]
  },
  {
   "cell_type": "code",
   "execution_count": 5,
   "metadata": {},
   "outputs": [
    {
     "ename": "HttpError",
     "evalue": "<HttpError 400 when requesting https://customsearch.googleapis.com/customsearch/v1?cx=73304312820-e6ievrpinacgdluota10hfhau7jk5nql.apps.googleusercontent.com&q=...&searchType=image&num=3&start=1&fileType=jpg%7Cgif%7Cpng&safe=off&rights=cc_publicdomain%7Ccc_attribute%7Ccc_sharealike%7Ccc_noncommercial%7Ccc_nonderived&key=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&alt=json returned \"API key not valid. Please pass a valid API key.\". Details: \"[{'message': 'API key not valid. Please pass a valid API key.', 'domain': 'global', 'reason': 'badRequest'}]\">",
     "output_type": "error",
     "traceback": [
      "\u001b[0;31m---------------------------------------------------------------------------\u001b[0m",
      "\u001b[0;31mHttpError\u001b[0m                                 Traceback (most recent call last)",
      "Cell \u001b[0;32mIn [5], line 11\u001b[0m\n\u001b[1;32m      4\u001b[0m gis \u001b[38;5;241m=\u001b[39m GoogleImagesSearch(\u001b[38;5;124m'\u001b[39m\u001b[38;5;124mGOCSPX-h0pE3b6HNV2HqwEI-GrPvgWVPurL\u001b[39m\u001b[38;5;124m'\u001b[39m, \u001b[38;5;124m'\u001b[39m\u001b[38;5;124m73304312820-e6ievrpinacgdluota10hfhau7jk5nql.apps.googleusercontent.com\u001b[39m\u001b[38;5;124m'\u001b[39m)\n\u001b[1;32m      5\u001b[0m _search_params \u001b[38;5;241m=\u001b[39m {\n\u001b[1;32m      6\u001b[0m     \u001b[38;5;124m'\u001b[39m\u001b[38;5;124mq\u001b[39m\u001b[38;5;124m'\u001b[39m: \u001b[38;5;124m'\u001b[39m\u001b[38;5;124m...\u001b[39m\u001b[38;5;124m'\u001b[39m,\n\u001b[1;32m      7\u001b[0m     \u001b[38;5;124m'\u001b[39m\u001b[38;5;124mnum\u001b[39m\u001b[38;5;124m'\u001b[39m: \u001b[38;5;241m3\u001b[39m,\n\u001b[1;32m      8\u001b[0m     \u001b[38;5;124m'\u001b[39m\u001b[38;5;124mfileType\u001b[39m\u001b[38;5;124m'\u001b[39m: \u001b[38;5;124m'\u001b[39m\u001b[38;5;124mjpg|gif|png\u001b[39m\u001b[38;5;124m'\u001b[39m,\n\u001b[1;32m      9\u001b[0m     \u001b[38;5;124m'\u001b[39m\u001b[38;5;124mrights\u001b[39m\u001b[38;5;124m'\u001b[39m: \u001b[38;5;124m'\u001b[39m\u001b[38;5;124mcc_publicdomain|cc_attribute|cc_sharealike|cc_noncommercial|cc_nonderived\u001b[39m\u001b[38;5;124m'\u001b[39m,\n\u001b[1;32m     10\u001b[0m }\n\u001b[0;32m---> 11\u001b[0m gis\u001b[38;5;241m.\u001b[39msearch(search_params\u001b[38;5;241m=\u001b[39m_search_params, path_to_dir\u001b[38;5;241m=\u001b[39m\u001b[38;5;124m'\u001b[39m\u001b[38;5;124m./.cache/\u001b[39m\u001b[38;5;124m'\u001b[39m)\n",
      "File \u001b[0;32m~/dev/gtransdict/.venv/lib/python3.10/site-packages/google_images_search/fetch_resize_save.py:151\u001b[0m, in \u001b[0;36mFetchResizeSave.search\u001b[0;34m(self, search_params, path_to_dir, width, height, custom_image_name, cache_discovery)\u001b[0m\n\u001b[1;32m    148\u001b[0m \u001b[39mself\u001b[39m\u001b[39m.\u001b[39m_search_params[\u001b[39m'\u001b[39m\u001b[39mstart\u001b[39m\u001b[39m'\u001b[39m] \u001b[39m=\u001b[39m start\n\u001b[1;32m    149\u001b[0m \u001b[39mself\u001b[39m\u001b[39m.\u001b[39m_search_params[\u001b[39m'\u001b[39m\u001b[39mnum\u001b[39m\u001b[39m'\u001b[39m] \u001b[39m=\u001b[39m num\n\u001b[0;32m--> 151\u001b[0m \u001b[39mself\u001b[39;49m\u001b[39m.\u001b[39;49m_search_images(\u001b[39m*\u001b[39;49m\u001b[39mself\u001b[39;49m\u001b[39m.\u001b[39;49m_get_data())\n\u001b[1;32m    153\u001b[0m \u001b[39mif\u001b[39;00m \u001b[39mlen\u001b[39m(\u001b[39mself\u001b[39m\u001b[39m.\u001b[39m_search_result) \u001b[39m>\u001b[39m\u001b[39m=\u001b[39m \u001b[39mself\u001b[39m\u001b[39m.\u001b[39m_number_of_images \\\n\u001b[1;32m    154\u001b[0m         \u001b[39mor\u001b[39;00m \u001b[39mself\u001b[39m\u001b[39m.\u001b[39mzero_return:\n\u001b[1;32m    155\u001b[0m     \u001b[39mbreak\u001b[39;00m\n",
      "File \u001b[0;32m~/dev/gtransdict/.venv/lib/python3.10/site-packages/google_images_search/fetch_resize_save.py:177\u001b[0m, in \u001b[0;36mFetchResizeSave._search_images\u001b[0;34m(self, search_params, path_to_dir, width, height, cache_discovery)\u001b[0m\n\u001b[1;32m    175\u001b[0m i \u001b[39m=\u001b[39m \u001b[39m0\u001b[39m\n\u001b[1;32m    176\u001b[0m threads \u001b[39m=\u001b[39m []\n\u001b[0;32m--> 177\u001b[0m \u001b[39mfor\u001b[39;00m url, referrer_url \u001b[39min\u001b[39;00m \u001b[39mself\u001b[39m\u001b[39m.\u001b[39m_google_custom_search\u001b[39m.\u001b[39msearch(\n\u001b[1;32m    178\u001b[0m     search_params, cache_discovery\n\u001b[1;32m    179\u001b[0m ):\n\u001b[1;32m    180\u001b[0m     \u001b[39m# initialise image object\u001b[39;00m\n\u001b[1;32m    181\u001b[0m     image \u001b[39m=\u001b[39m GSImage(\u001b[39mself\u001b[39m)\n\u001b[1;32m    182\u001b[0m     image\u001b[39m.\u001b[39murl \u001b[39m=\u001b[39m url\n",
      "File \u001b[0;32m~/dev/gtransdict/.venv/lib/python3.10/site-packages/google_images_search/google_api.py:83\u001b[0m, in \u001b[0;36mGoogleCustomSearch.search\u001b[0;34m(self, params, cache_discovery)\u001b[0m\n\u001b[1;32m     75\u001b[0m \u001b[39m\"\"\"Search for images and returns\u001b[39;00m\n\u001b[1;32m     76\u001b[0m \u001b[39mthem using generator object\u001b[39;00m\n\u001b[1;32m     77\u001b[0m \u001b[39m:param params: search params\u001b[39;00m\n\u001b[1;32m     78\u001b[0m \u001b[39m:param cache_discovery whether or not to cache the discovery doc\u001b[39;00m\n\u001b[1;32m     79\u001b[0m \u001b[39m:return: image list\u001b[39;00m\n\u001b[1;32m     80\u001b[0m \u001b[39m\"\"\"\u001b[39;00m\n\u001b[1;32m     82\u001b[0m search_params \u001b[39m=\u001b[39m \u001b[39mself\u001b[39m\u001b[39m.\u001b[39m_search_params(params)\n\u001b[0;32m---> 83\u001b[0m res \u001b[39m=\u001b[39m \u001b[39mself\u001b[39;49m\u001b[39m.\u001b[39;49m_query_google_api(search_params, cache_discovery)\n\u001b[1;32m     85\u001b[0m results \u001b[39m=\u001b[39m res\u001b[39m.\u001b[39mget(\u001b[39m'\u001b[39m\u001b[39mitems\u001b[39m\u001b[39m'\u001b[39m, [])\n\u001b[1;32m     86\u001b[0m \u001b[39mif\u001b[39;00m \u001b[39mnot\u001b[39;00m results:\n",
      "File \u001b[0;32m~/dev/gtransdict/.venv/lib/python3.10/site-packages/google_images_search/google_api.py:49\u001b[0m, in \u001b[0;36mGoogleCustomSearch._query_google_api\u001b[0;34m(self, search_params, cache_discovery)\u001b[0m\n\u001b[1;32m     42\u001b[0m \u001b[39mif\u001b[39;00m \u001b[39mnot\u001b[39;00m \u001b[39mself\u001b[39m\u001b[39m.\u001b[39m_google_build:\n\u001b[1;32m     43\u001b[0m     \u001b[39mself\u001b[39m\u001b[39m.\u001b[39m_google_build \u001b[39m=\u001b[39m discovery\u001b[39m.\u001b[39mbuild(\n\u001b[1;32m     44\u001b[0m         \u001b[39m\"\u001b[39m\u001b[39mcustomsearch\u001b[39m\u001b[39m\"\u001b[39m, \u001b[39m\"\u001b[39m\u001b[39mv1\u001b[39m\u001b[39m\"\u001b[39m,\n\u001b[1;32m     45\u001b[0m         developerKey\u001b[39m=\u001b[39m\u001b[39mself\u001b[39m\u001b[39m.\u001b[39m_developer_key,\n\u001b[1;32m     46\u001b[0m         cache_discovery\u001b[39m=\u001b[39mcache_discovery)\n\u001b[1;32m     48\u001b[0m \u001b[39mreturn\u001b[39;00m \u001b[39mself\u001b[39;49m\u001b[39m.\u001b[39;49m_google_build\u001b[39m.\u001b[39;49mcse()\u001b[39m.\u001b[39;49mlist(\n\u001b[0;32m---> 49\u001b[0m     cx\u001b[39m=\u001b[39;49m\u001b[39mself\u001b[39;49m\u001b[39m.\u001b[39;49m_custom_search_cx, \u001b[39m*\u001b[39;49m\u001b[39m*\u001b[39;49msearch_params)\u001b[39m.\u001b[39;49mexecute()\n",
      "File \u001b[0;32m~/dev/gtransdict/.venv/lib/python3.10/site-packages/googleapiclient/_helpers.py:130\u001b[0m, in \u001b[0;36mpositional.<locals>.positional_decorator.<locals>.positional_wrapper\u001b[0;34m(*args, **kwargs)\u001b[0m\n\u001b[1;32m    128\u001b[0m     \u001b[39melif\u001b[39;00m positional_parameters_enforcement \u001b[39m==\u001b[39m POSITIONAL_WARNING:\n\u001b[1;32m    129\u001b[0m         logger\u001b[39m.\u001b[39mwarning(message)\n\u001b[0;32m--> 130\u001b[0m \u001b[39mreturn\u001b[39;00m wrapped(\u001b[39m*\u001b[39;49margs, \u001b[39m*\u001b[39;49m\u001b[39m*\u001b[39;49mkwargs)\n",
      "File \u001b[0;32m~/dev/gtransdict/.venv/lib/python3.10/site-packages/googleapiclient/http.py:938\u001b[0m, in \u001b[0;36mHttpRequest.execute\u001b[0;34m(self, http, num_retries)\u001b[0m\n\u001b[1;32m    936\u001b[0m     callback(resp)\n\u001b[1;32m    937\u001b[0m \u001b[39mif\u001b[39;00m resp\u001b[39m.\u001b[39mstatus \u001b[39m>\u001b[39m\u001b[39m=\u001b[39m \u001b[39m300\u001b[39m:\n\u001b[0;32m--> 938\u001b[0m     \u001b[39mraise\u001b[39;00m HttpError(resp, content, uri\u001b[39m=\u001b[39m\u001b[39mself\u001b[39m\u001b[39m.\u001b[39muri)\n\u001b[1;32m    939\u001b[0m \u001b[39mreturn\u001b[39;00m \u001b[39mself\u001b[39m\u001b[39m.\u001b[39mpostproc(resp, content)\n",
      "\u001b[0;31mHttpError\u001b[0m: <HttpError 400 when requesting https://customsearch.googleapis.com/customsearch/v1?cx=73304312820-e6ievrpinacgdluota10hfhau7jk5nql.apps.googleusercontent.com&q=...&searchType=image&num=3&start=1&fileType=jpg%7Cgif%7Cpng&safe=off&rights=cc_publicdomain%7Ccc_attribute%7Ccc_sharealike%7Ccc_noncommercial%7Ccc_nonderived&key=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&alt=json returned \"API key not valid. Please pass a valid API key.\". Details: \"[{'message': 'API key not valid. Please pass a valid API key.', 'domain': 'global', 'reason': 'badRequest'}]\">"
     ]
    }
   ],
   "source": [
    "from google_images_search import GoogleImagesSearch\n",
    "\n",
    "word = \"weapon\"\n",
    "gis = GoogleImagesSearch('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', '73304312820-e6ievrpinacgdluota10hfhau7jk5nql.apps.googleusercontent.com')\n",
    "_search_params = {\n",
    "    'q': '...',\n",
    "    'num': 3,\n",
    "    'fileType': 'jpg|gif|png',\n",
    "    'rights': 'cc_publicdomain|cc_attribute|cc_sharealike|cc_noncommercial|cc_nonderived',\n",
    "}\n",
    "gis.search(search_params=_search_params, path_to_dir='./.cache/')"
   ]
  }
 ],
 "metadata": {
  "kernelspec": {
   "display_name": "Python 3.10.7 ('.venv': venv)",
   "language": "python",
   "name": "python3"
  },
  "language_info": {
   "codemirror_mode": {
    "name": "ipython",
    "version": 3
   },
   "file_extension": ".py",
   "mimetype": "text/x-python",
   "name": "python",
   "nbconvert_exporter": "python",
   "pygments_lexer": "ipython3",
   "version": "3.10.7"
  },
  "orig_nbformat": 4,
  "vscode": {
   "interpreter": {
    "hash": "0d864549574e2c7ad85dd2e8e894f157a8cc5a586eef763d930f0f62cbd9ef2b"
   }
  }
 },
 "nbformat": 4,
 "nbformat_minor": 2
}
