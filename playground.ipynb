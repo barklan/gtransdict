{
 "cells": [
  {
   "cell_type": "code",
   "execution_count": 14,
   "metadata": {},
   "outputs": [
    {
     "data": {
      "text/plain": [
       "[{'etymology': 'fahren (“to drive”) +\\u200e -er',\n",
       "  'definitions': [{'partOfSpeech': 'noun',\n",
       "    'text': ['Fahrer\\xa0m (strong, genitive Fahrers, plural Fahrer, feminine Fahrerin)',\n",
       "     'agent noun of fahren; driver (person)'],\n",
       "    'relatedWords': [{'relationshipType': 'related terms',\n",
       "      'words': ['fahren']}],\n",
       "    'examples': []}],\n",
       "  'pronunciations': {'text': ['IPA: /ˈfaːʁɐ/'], 'audio': []}}]"
      ]
     },
     "execution_count": 14,
     "metadata": {},
     "output_type": "execute_result"
    }
   ],
   "source": [
    "from wiktionaryparser import WiktionaryParser\n",
    "\n",
    "parser = WiktionaryParser()\n",
    "\n",
    "word = \"Fahrer\"\n",
    "fetched = parser.fetch(word, \"german\")\n",
    "fetched"
   ]
  },
  {
   "cell_type": "code",
   "execution_count": 15,
   "metadata": {},
   "outputs": [
    {
     "data": {
      "text/plain": [
       "{'partOfSpeech': 'noun',\n",
       " 'text': ['Fahrer\\xa0m (strong, genitive Fahrers, plural Fahrer, feminine Fahrerin)',\n",
       "  'agent noun of fahren; driver (person)'],\n",
       " 'relatedWords': [{'relationshipType': 'related terms', 'words': ['fahren']}],\n",
       " 'examples': []}"
      ]
     },
     "execution_count": 15,
     "metadata": {},
     "output_type": "execute_result"
    }
   ],
   "source": [
    "working = fetched[0][\"definitions\"][0]\n",
    "working"
   ]
  },
  {
   "cell_type": "code",
   "execution_count": 16,
   "metadata": {},
   "outputs": [
    {
     "data": {
      "text/plain": [
       "'Fahrer\\xa0m (strong, genitive Fahrers, plural Fahrer, feminine Fahrerin)'"
      ]
     },
     "execution_count": 16,
     "metadata": {},
     "output_type": "execute_result"
    }
   ],
   "source": [
    "short = working[\"text\"][0]\n",
    "short"
   ]
  },
  {
   "cell_type": "markdown",
   "metadata": {},
   "source": [
    "## Handling cases"
   ]
  },
  {
   "cell_type": "code",
   "execution_count": 17,
   "metadata": {},
   "outputs": [],
   "source": [
    "hint = working[\"text\"][1]\n",
    "if short == word and \" of \" in hint:\n",
    "    nextToSearch = hint.split(\" \")[-1]\n",
    "    nextToSearch = nextToSearch.replace(\":\", \"\")\n"
   ]
  },
  {
   "cell_type": "markdown",
   "metadata": {},
   "source": [
    "---\n",
    "\n",
    "## Handling style"
   ]
  },
  {
   "cell_type": "code",
   "execution_count": 29,
   "metadata": {},
   "outputs": [
    {
     "data": {
      "text/plain": [
       "'<b>Fahrer\\xa0m</b> <i>(</i><b>(strong,</b><i>,</i> genitive <b>Fahrers,</b><i>,</i> plural <b>Fahrer,</b><i>,</i> feminine <b>Fahrerin)</b><i>)</i>'"
      ]
     },
     "execution_count": 29,
     "metadata": {},
     "output_type": "execute_result"
    }
   ],
   "source": [
    "def it(string): \n",
    "    return f\"<i>{string}</i>\"\n",
    "\n",
    "def bd(string):\n",
    "    return f\"<b>{string}</b>\"\n",
    "\n",
    "vector = short.split(' ')\n",
    "vector[0] = bd(vector[0])\n",
    "for i in range(1, len(vector)):\n",
    "    el = vector[i]\n",
    "    last = el[-1]\n",
    "    if last == \",\" or last == \")\":\n",
    "        if el[0] == \"(\":\n",
    "            vector[i] = it(\"(\") + bd(el) + it(last)\n",
    "        else:\n",
    "            vector[i] = bd(el) + it(last)\n",
    "    else:\n",
    "        el = it(el)\n",
    "new = \" \".join(vector)\n",
    "new"
   ]
  },
  {
   "cell_type": "markdown",
   "metadata": {},
   "source": [
    "---"
   ]
  },
  {
   "cell_type": "code",
   "execution_count": 18,
   "metadata": {},
   "outputs": [
    {
     "data": {
      "text/plain": [
       "'noun'"
      ]
     },
     "execution_count": 18,
     "metadata": {},
     "output_type": "execute_result"
    }
   ],
   "source": [
    "partOfSpeech = working[\"partOfSpeech\"]\n",
    "partOfSpeech"
   ]
  },
  {
   "cell_type": "code",
   "execution_count": 19,
   "metadata": {},
   "outputs": [
    {
     "data": {
      "text/plain": [
       "['Fahrer\\xa0m (strong, genitive Fahrers, plural Fahrer, feminine Fahrerin)',\n",
       " 'agent noun of fahren; driver (person)']"
      ]
     },
     "execution_count": 19,
     "metadata": {},
     "output_type": "execute_result"
    }
   ],
   "source": [
    "text = working[\"text\"]\n",
    "text"
   ]
  },
  {
   "cell_type": "code",
   "execution_count": 20,
   "metadata": {},
   "outputs": [
    {
     "data": {
      "text/plain": [
       "'noun | Fahrer\\xa0m (strong, genitive Fahrers, plural Fahrer, feminine Fahrerin)'"
      ]
     },
     "execution_count": 20,
     "metadata": {},
     "output_type": "execute_result"
    }
   ],
   "source": [
    "complete = f\"{partOfSpeech} | {text[0]}\"\n",
    "complete"
   ]
  }
 ],
 "metadata": {
  "kernelspec": {
   "display_name": "Python 3.10.7 ('.venv': venv)",
   "language": "python",
   "name": "python3"
  },
  "language_info": {
   "codemirror_mode": {
    "name": "ipython",
    "version": 3
   },
   "file_extension": ".py",
   "mimetype": "text/x-python",
   "name": "python",
   "nbconvert_exporter": "python",
   "pygments_lexer": "ipython3",
   "version": "3.10.7"
  },
  "orig_nbformat": 4,
  "vscode": {
   "interpreter": {
    "hash": "0d864549574e2c7ad85dd2e8e894f157a8cc5a586eef763d930f0f62cbd9ef2b"
   }
  }
 },
 "nbformat": 4,
 "nbformat_minor": 2
}
